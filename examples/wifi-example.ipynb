{
 "cells": [
  {
   "cell_type": "markdown",
   "metadata": {},
   "source": [
    "# Running ns-3 Simulation Campaigns with SEM\n",
    "\n",
    "This example shows how you can use SEM to manage an ns-3 simulation campaign. We\n",
    "will be working with the ``wifi-multi-tos`` simulation script: this ns-3 program\n",
    "creates a WiFi network, measures the aggregate throughput and prints it out to\n",
    "the standard output. "
   ]
  },
  {
   "cell_type": "markdown",
   "metadata": {},
   "source": [
    "## Creating the simulation campaign object\n",
    "\n",
    "First of all, let's import some relevant libraries. We will be using ``sem`` to\n",
    "run our simulations and parse the outputs, and ``matplotlib`` and ``seaborn`` to\n",
    "plot the results. We also import "
   ]
  },
  {
   "cell_type": "code",
   "execution_count": 21,
   "metadata": {
    "collapsed": false,
    "jupyter": {
     "outputs_hidden": false
    }
   },
   "outputs": [],
   "source": [
    "import sem\n",
    "import pprint\n",
    "import matplotlib.pyplot as plt\n",
    "import seaborn as sns\n",
    "sns.set_style(\"white\")\n"
   ]
  },
  {
   "cell_type": "markdown",
   "metadata": {},
   "source": [
    "Most of our interaction with ``sem`` will happen through an object of type\n",
    "``CampaignManager``. When we create our campaign, we need to tell ``sem`` where\n",
    "to find our ns-3 installation, what script we want to run, and where it should\n",
    "save our results."
   ]
  },
  {
   "cell_type": "code",
   "execution_count": 2,
   "metadata": {
    "collapsed": false,
    "jupyter": {
     "outputs_hidden": false
    }
   },
   "outputs": [],
   "source": [
    "ns_path = 'ns-3'\n",
    "script = 'wifi-multi-tos'\n",
    "campaign_dir = \"results\"\n",
    "campaign = sem.CampaignManager.new(ns_path, script, campaign_dir, overwrite=True)\n"
   ]
  },
  {
   "cell_type": "markdown",
   "metadata": {},
   "source": [
    "At time of campaign creation, ``sem`` compiles ns-3, asks the ns-3 script we\n",
    "want to use for its command line parameters, and looks at the hash of the commit\n",
    "the ns-3 repository is currently at. This data is saved and printed out when we\n",
    "inspect the campaign object."
   ]
  },
  {
   "cell_type": "code",
   "execution_count": 3,
   "metadata": {
    "collapsed": false,
    "jupyter": {
     "outputs_hidden": false
    }
   },
   "outputs": [
    {
     "name": "stdout",
     "output_type": "stream",
     "text": [
      "--- Campaign info ---\n",
      "script: wifi-multi-tos\n",
      "params: {'nWifi': 4.0, 'distance': 1.0, 'simulationTime': 10.0, 'useRts': False, 'mcs': 7.0, 'channelWidth': None, 'useShortGuardInterval': False}\n",
      "HEAD: 2d7f24b9adaf5dadf29c15d7237a96b43f77ef27\n",
      "Runner type: <class 'sem.parallelrunner.ParallelRunner'>\n",
      "-----------\n"
     ]
    }
   ],
   "source": [
    "print(campaign)\n"
   ]
  },
  {
   "cell_type": "markdown",
   "metadata": {},
   "source": [
    "## Running simulations\n",
    "\n",
    "Now that we created our simulation campaign object, we can use it to run some\n",
    "simulations. In order to do this, we need to specify what parameter combinations\n",
    "we are interested in running. The ``wifi-multi-tos`` script supports the\n",
    "following command line parameters:\n",
    "\n",
    "- ``nWifi``: Number of STAs to simulate\n",
    "- ``distance``: Distance of STAs from the AP\n",
    "- ``useRts``: Whether to enable RTS/CTS\n",
    "- ``useShortGuardInterval``: Whether to use the short guard interval\n",
    "- ``mcs``: Modulation Coding Scheme to use\n",
    "- ``channelWidth``: Channel Width in MHz\n",
    "- ``simulationTime``:  How long to simulate for\n",
    "\n",
    "Say we are interested in seeing how a certain MCS is affected by the distance\n",
    "between the STA and the AP. In this case, we might want to run simulations with\n",
    "different values of the ``mcs`` and ``distance`` parameters. To do this, we\n",
    "create a Python dictionary where the keys are the name of the parameters, and\n",
    "the values are lists of parameter values. When we pass this dictionary to our\n",
    "``campaign`` object's ``run_missing_simulations`` function, ``sem`` will run\n",
    "simulations for each combination of the specified parameter space.\n",
    "\n",
    "We also create a ``runs`` variable to specify how many randomized experiments we\n",
    "want ``sem`` to perform for each parameter combination.\n"
   ]
  },
  {
   "cell_type": "code",
   "execution_count": 4,
   "metadata": {
    "collapsed": false,
    "jupyter": {
     "outputs_hidden": false
    }
   },
   "outputs": [
    {
     "name": "stderr",
     "output_type": "stream",
     "text": [
      "Running simulations: 100%|██████████| 64/64 [00:26<00:00,  2.44simulation/s]\n"
     ]
    }
   ],
   "source": [
    "params = {\n",
    "    'nWifi': [1], \n",
    "    'distance': list(range(0, 80, 10)),\n",
    "    'useRts': [True],  \n",
    "    'useShortGuardInterval': [True],  \n",
    "    'mcs': list(range(0, 8, 2)),  \n",
    "    'channelWidth': [20],  \n",
    "    'simulationTime': [4],  \n",
    "}\n",
    "runs = 2\n",
    "\n",
    "campaign.run_missing_simulations(params, runs=runs)\n"
   ]
  },
  {
   "cell_type": "markdown",
   "metadata": {},
   "source": [
    "## Viewing results\n",
    "\n",
    "Results are now saved in the campaign object's database. We can access them\n",
    "through the campaign's database object, which offers a ``get_complete_results``\n",
    "function:\n"
   ]
  },
  {
   "cell_type": "code",
   "execution_count": 5,
   "metadata": {
    "collapsed": false,
    "jupyter": {
     "outputs_hidden": false
    }
   },
   "outputs": [
    {
     "name": "stdout",
     "output_type": "stream",
     "text": [
      "There are 64 results in the database\n",
      "\n",
      "This is an example result:\n",
      "\n",
      "{'meta': {'elapsed_time': 0.5013906955718994,\n",
      "          'exitcode': 0,\n",
      "          'id': 'a7a24b87-0321-4555-8af7-00b194c31472'},\n",
      " 'output': {'stderr': '', 'stdout': 'Aggregated throughput: 0 Mbit/s\\n'},\n",
      " 'params': {'RngRun': 48,\n",
      "            'channelWidth': 20,\n",
      "            'distance': 60,\n",
      "            'mcs': 0,\n",
      "            'nWifi': 1,\n",
      "            'simulationTime': 4,\n",
      "            'useRts': True,\n",
      "            'useShortGuardInterval': True}}\n"
     ]
    }
   ],
   "source": [
    "print(\"There are %s results in the database\\n\" % len(campaign.db.get_complete_results()))\n",
    "example_result = campaign.db.get_complete_results()[0]\n",
    "print(\"This is an example result:\\n\")\n",
    "pprint.pprint(example_result)"
   ]
  },
  {
   "cell_type": "markdown",
   "metadata": {},
   "source": [
    "We can see that there are 64 results in the database, corresponding to the\n",
    "simulations we ran earlier. A single result is simply a dictionary, with three\n",
    "keys:\n",
    "- ``meta``, whose value is a dictionary containing information on the simulation execution\n",
    "- ``output``, whose value is a dictionary containing a list of files created by the simulation, in addition to entries containing stdout and stderr\n",
    "- ``params``, whose value is the parameter specification that was used to obtain this result\n",
    "\n",
    "We can thus see the output produced by the simulation easily:\n"
   ]
  },
  {
   "cell_type": "code",
   "execution_count": 6,
   "metadata": {
    "collapsed": false,
    "jupyter": {
     "outputs_hidden": false
    }
   },
   "outputs": [
    {
     "name": "stdout",
     "output_type": "stream",
     "text": [
      "Aggregated throughput: 0 Mbit/s\n",
      "\n"
     ]
    }
   ],
   "source": [
    "print(example_result['output']['stdout'])\n"
   ]
  },
  {
   "cell_type": "markdown",
   "metadata": {},
   "source": [
    "If we are interested in running one of such results manually, using waf from our\n",
    "ns-3 installation, ``sem`` provides a function that outputs the appropriate\n",
    "command automatically:\n"
   ]
  },
  {
   "cell_type": "code",
   "execution_count": 7,
   "metadata": {
    "collapsed": false,
    "jupyter": {
     "outputs_hidden": false
    }
   },
   "outputs": [
    {
     "name": "stdout",
     "output_type": "stream",
     "text": [
      "Use this command to reproduce the example result:\n",
      "python3 waf --run \"wifi-multi-tos --nWifi=1 --distance=60 --useRts=True --useShortGuardInterval=True --mcs=0 --channelWidth=20 --simulationTime=4 --RngRun=48\"\n",
      "Or obtain a debug command by setting the debug flag to true:\n",
      "python3 waf --run wifi-multi-tos --command-template=\"gdb --args %s --nWifi=1 --distance=60 --useRts=True --useShortGuardInterval=True --mcs=0 --channelWidth=20 --simulationTime=4 --RngRun=48\"\n"
     ]
    }
   ],
   "source": [
    "waf_command = sem.utils.get_command_from_result(script, example_result)\n",
    "print(\"Use this command to reproduce the example result:\\n%s\" % waf_command)\n",
    "\n",
    "waf_command_debug = sem.utils.get_command_from_result(script, example_result, debug=True)\n",
    "print(\"Or obtain a debug command by setting the debug flag to true:\\n%s\" % waf_command_debug)\n"
   ]
  },
  {
   "cell_type": "markdown",
   "metadata": {},
   "source": [
    "## Exporting and plotting results\n",
    "Now that the results of the simulations we are interested in running are saved\n",
    "in the database, it's time to obtain some plots. In order to do this, we have to\n",
    "transform strings like:\n"
   ]
  },
  {
   "cell_type": "code",
   "execution_count": 8,
   "metadata": {
    "collapsed": false,
    "jupyter": {
     "outputs_hidden": false
    }
   },
   "outputs": [
    {
     "name": "stdout",
     "output_type": "stream",
     "text": [
      "Aggregated throughput: 0 Mbit/s\n",
      "\n"
     ]
    }
   ],
   "source": [
    "print(example_result['output']['stdout'])\n"
   ]
  },
  {
   "cell_type": "markdown",
   "metadata": {},
   "source": [
    "into values we can plot. In this case, since we are interested in the aggregate\n",
    "throughput, it will be enough to get the second-to-last word of the stdout\n",
    "string and convert it to a float. We can do this with a function that takes the \n",
    "result as input and outputs the measured throughput. For reasons we will explain\n",
    "later, let's have this function return a list containing our throughput:\n"
   ]
  },
  {
   "cell_type": "code",
   "execution_count": 9,
   "metadata": {
    "collapsed": false,
    "jupyter": {
     "outputs_hidden": false
    }
   },
   "outputs": [],
   "source": [
    "def get_average_throughput(result):\n",
    "    return [float(result['output']['stdout'].split(\" \")[-2])]\n"
   ]
  },
  {
   "cell_type": "markdown",
   "metadata": {},
   "source": [
    "We can test the function is working properly on our example result:"
   ]
  },
  {
   "cell_type": "code",
   "execution_count": 10,
   "metadata": {
    "collapsed": false,
    "jupyter": {
     "outputs_hidden": false
    }
   },
   "outputs": [
    {
     "data": {
      "text/plain": [
       "[0.0]"
      ]
     },
     "execution_count": 10,
     "metadata": {},
     "output_type": "execute_result"
    }
   ],
   "source": [
    "get_average_throughput(example_result)\n"
   ]
  },
  {
   "cell_type": "markdown",
   "metadata": {},
   "source": [
    "Looks ok! ``sem`` can accept functions defined like this, and use them on all\n",
    "the available results to produce neatly formatted and easy-to-use data\n",
    "structures. Let's create a Pandas DataFrame using the\n",
    "``get_results_as_dataframe`` function:\n"
   ]
  },
  {
   "cell_type": "code",
   "execution_count": 11,
   "metadata": {
    "collapsed": false,
    "jupyter": {
     "outputs_hidden": false
    }
   },
   "outputs": [],
   "source": [
    "# Tell SEM how to label the output of the function\n",
    "throughput_labels = ['Throughput']\n",
    "\n",
    "# Use the parsing function to create a Pandas dataframe\n",
    "results = campaign.get_results_as_dataframe(get_average_throughput,\n",
    "                                            throughput_labels,\n",
    "                                            drop_columns=True)\n"
   ]
  },
  {
   "cell_type": "markdown",
   "metadata": {},
   "source": [
    "Let's now inspect the ``results`` DataArray:"
   ]
  },
  {
   "cell_type": "code",
   "execution_count": 12,
   "metadata": {
    "collapsed": false,
    "jupyter": {
     "outputs_hidden": false
    }
   },
   "outputs": [
    {
     "name": "stdout",
     "output_type": "stream",
     "text": [
      "    distance  mcs  RngRun  Throughput\n",
      "0         60    0      48     0.00000\n",
      "1         40    6      38     0.00000\n",
      "2         70    6      62     0.00000\n",
      "3          0    0       0     6.05875\n",
      "4          0    2       3    16.20970\n",
      "..       ...  ...     ...         ...\n",
      "59        10    2      10    16.33040\n",
      "60        10    6      15    39.73810\n",
      "61        20    4      20    28.13290\n",
      "62        40    4      37    28.01220\n",
      "63        10    4      13    28.11810\n",
      "\n",
      "[64 rows x 4 columns]\n"
     ]
    }
   ],
   "source": [
    "print(results)\n"
   ]
  },
  {
   "cell_type": "markdown",
   "metadata": {},
   "source": [
    "Now that we have our results collected in such a data structure, plotting comes\n",
    "very naturally using ``seaborn``:\n"
   ]
  },
  {
   "cell_type": "code",
   "execution_count": 13,
   "metadata": {
    "collapsed": false,
    "jupyter": {
     "outputs_hidden": false
    }
   },
   "outputs": [
    {
     "data": {
      "image/png": "[encoded data removed]",
      "text/plain": [
       "<Figure size 402.375x360 with 1 Axes>"
      ]
     },
     "metadata": {},
     "output_type": "display_data"
    }
   ],
   "source": [
    "sns.catplot(data=results,\n",
    "            x='distance',\n",
    "            y='Throughput',\n",
    "            hue='mcs',\n",
    "            kind='point')\n",
    "plt.show()"
   ]
  },
  {
   "cell_type": "markdown",
   "metadata": {},
   "source": [
    "## More plot examples\n",
    "\n",
    "Say we are now interested in seeing the effect of the ``useRts`` and ``useShortGuardInterval`` parameters. We just need to run some additional simulations and re-export results:"
   ]
  },
  {
   "cell_type": "code",
   "execution_count": 14,
   "metadata": {},
   "outputs": [
    {
     "name": "stderr",
     "output_type": "stream",
     "text": [
      "Running simulations: 100%|██████████| 24/24 [00:12<00:00,  1.90simulation/s]\n"
     ]
    }
   ],
   "source": [
    "params = {\n",
    "    'nWifi': [1], \n",
    "    'distance': [10],\n",
    "    'useRts': [False, True],  \n",
    "    'useShortGuardInterval': [False, True],  \n",
    "    'mcs': list(range(0, 8, 2)),  \n",
    "    'channelWidth': [20],  \n",
    "    'simulationTime': [4],  \n",
    "}\n",
    "runs = 2\n",
    "\n",
    "campaign.run_missing_simulations(params, runs=runs)"
   ]
  },
  {
   "cell_type": "markdown",
   "metadata": {},
   "source": [
    "``sem`` will only perform the necessary simulations that have not already been executed to explore the new parameter space. Now, let's re-use the previous parsing function to extract the throughput for the new results:"
   ]
  },
  {
   "cell_type": "code",
   "execution_count": 15,
   "metadata": {},
   "outputs": [
    {
     "name": "stdout",
     "output_type": "stream",
     "text": [
      "    useRts  useShortGuardInterval  mcs  RngRun  Throughput\n",
      "0     True                   True    2      11    16.15960\n",
      "1     True                   True    4      12    28.42430\n",
      "2     True                   True    6      14    40.14140\n",
      "3     True                   True    0       8     6.06464\n",
      "4     True                   True    0       9     6.08230\n",
      "5     True                   True    2      10    16.33040\n",
      "6     True                   True    6      15    39.73810\n",
      "7     True                   True    4      13    28.11810\n",
      "8    False                  False    0      64     5.76730\n",
      "9    False                  False    0      65     5.76141\n",
      "10    True                  False    0      81     5.44051\n",
      "11   False                  False    2      66    16.19790\n",
      "12   False                   True    0      73     6.40614\n",
      "13   False                  False    4      68    30.91200\n",
      "14   False                  False    4      69    30.76480\n",
      "15   False                   True    4      76    34.12680\n",
      "16    True                  False    4      84    26.49310\n",
      "17    True                  False    2      82    15.23520\n",
      "18   False                  False    6      70    42.63800\n",
      "19   False                   True    6      78    46.94500\n",
      "20    True                  False    6      87    36.93250\n",
      "21   False                   True    6      79    47.09220\n",
      "22    True                  False    4      85    26.56080\n",
      "23    True                  False    2      83    14.94670\n",
      "24   False                   True    0      72     6.42381\n",
      "25   False                   True    2      75    17.97020\n",
      "26    True                  False    0      80     5.44346\n",
      "27   False                  False    6      71    43.68900\n",
      "28   False                   True    2      74    18.12030\n",
      "29   False                  False    2      67    16.30980\n",
      "30   False                   True    4      77    33.58220\n",
      "31    True                  False    6      86    36.49380\n"
     ]
    }
   ],
   "source": [
    "# Use the parsing function to create a Pandas dataframe\n",
    "results = campaign.get_results_as_dataframe(get_average_throughput,\n",
    "                                            throughput_labels,\n",
    "                                            params=params,\n",
    "                                            drop_columns=True)\n",
    "print(results)"
   ]
  },
  {
   "cell_type": "markdown",
   "metadata": {},
   "source": [
    "As we can see, only 32 results are now parsed by the function, since we specified the parameter space we are interested in when we called ``get_results_as_dataframe``. Now, let's move on to plotting."
   ]
  },
  {
   "cell_type": "code",
   "execution_count": 16,
   "metadata": {},
   "outputs": [
    {
     "data": {
      "image/png": "[encoded data removed]",
      "text/plain": [
       "<Figure size 841.25x360 with 2 Axes>"
      ]
     },
     "metadata": {},
     "output_type": "display_data"
    }
   ],
   "source": [
    "sns.catplot(data=results,\n",
    "            x='mcs',\n",
    "            y='Throughput',\n",
    "            col='useRts',\n",
    "            hue='useShortGuardInterval',\n",
    "            kind='point')\n",
    "plt.show()"
   ]
  },
  {
   "cell_type": "markdown",
   "metadata": {},
   "source": [
    "Once initial plots are obtained, it's easy to adjust the number of repetitions using the runs argument, and get cleaner results."
   ]
  },
  {
   "cell_type": "markdown",
   "metadata": {},
   "source": [
    "Finally, let's see how the number of WiFi devices impacts the distribution of the aggregate throughput:"
   ]
  },
  {
   "cell_type": "code",
   "execution_count": 24,
   "metadata": {},
   "outputs": [
    {
     "data": {
      "image/png": "[encoded data removed]",
      "text/plain": [
       "<Figure size 360x360 with 1 Axes>"
      ]
     },
     "metadata": {},
     "output_type": "display_data"
    }
   ],
   "source": [
    "params = {\n",
    "    'nWifi': list(range(1, 6)), \n",
    "    'distance': [10],\n",
    "    'useRts': [False],  \n",
    "    'useShortGuardInterval': [False],  \n",
    "    'mcs': [6],  \n",
    "    'channelWidth': [20],  \n",
    "    'simulationTime': [4],  \n",
    "}\n",
    "runs = 20\n",
    "\n",
    "campaign.run_missing_simulations(params, runs=runs)\n",
    "\n",
    "results = campaign.get_results_as_dataframe(get_average_throughput,\n",
    "                                            throughput_labels,\n",
    "                                            params=params,\n",
    "                                            drop_columns=True)\n",
    "sns.catplot(data=results,\n",
    "            x='nWifi',\n",
    "            y='Throughput',\n",
    "            kind='box')\n",
    "plt.show()"
   ]
  }
 ],
 "metadata": {
  "kernelspec": {
   "display_name": "Python 3",
   "language": "python",
   "name": "python3"
  },
  "language_info": {
   "codemirror_mode": {
    "name": "ipython",
    "version": 3
   },
   "file_extension": ".py",
   "mimetype": "text/x-python",
   "name": "python",
   "nbconvert_exporter": "python",
   "pygments_lexer": "ipython3",
   "version": "3.9.1"
  },
  "name": "wifi-example.ipynb",
  "toc-autonumbering": false,
  "toc-showmarkdowntxt": false
 },
 "nbformat": 4,
 "nbformat_minor": 4
}
