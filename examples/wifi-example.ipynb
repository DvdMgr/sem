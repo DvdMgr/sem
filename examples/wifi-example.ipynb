{
 "cells": [
  {
   "cell_type": "code",
   "execution_count": 4,
   "metadata": {
    "collapsed": false
   },
   "outputs": [],
   "source": [
    "# This is an example showing how to use the ns-3 SimulationExecutionManager to\n",
    "# get from compilation to result visualization.\n",
    "import sem\n",
    "import os\n",
    "import numpy as np\n",
    "import matplotlib\n",
    "import matplotlib.pyplot as plt\n",
    "import seaborn as sns\n"
   ]
  },
  {
   "cell_type": "code",
   "execution_count": 5,
   "metadata": {
    "collapsed": false
   },
   "outputs": [
    {
     "name": "stdout",
     "output_type": "stream",
     "text": [
      "--- Campaign info ---\n",
      "script: wifi-multi-tos\n",
      "params: {'nWifi': 4.0, 'distance': 1.0, 'simulationTime': 10.0, 'useRts': False, 'mcs': 7.0, 'channelWidth': None, 'useShortGuardInterval': False}\n",
      "HEAD: 2d7f24b9adaf5dadf29c15d7237a96b43f77ef27\n",
      "Runner type: <class 'sem.parallelrunner.ParallelRunner'>\n",
      "-----------\n"
     ]
    }
   ],
   "source": [
    "#######################\n",
    "# Create the campaign #\n",
    "#######################\n",
    "script = 'wifi-multi-tos'\n",
    "ns_path = 'ns-3'\n",
    "campaign_dir = \"/tmp/sem-test/wifi-plotting-example\"\n",
    "\n",
    "campaign = sem.CampaignManager.new(ns_path, script, campaign_dir,\n",
    "                                   runner_type='ParallelRunner',\n",
    "                                   overwrite=True,\n",
    "                                   max_parallel_processes=8)\n",
    "\n",
    "print(campaign)  # This prints out the campaign settings\n"
   ]
  },
  {
   "cell_type": "code",
   "execution_count": null,
   "metadata": {
    "collapsed": false
   },
   "outputs": [
    {
     "name": "stderr",
     "output_type": "stream",
     "text": [
      "\r",
      "Running simulations:   0%|          | 0/440 [00:00<?, ?simulation/s]"
     ]
    },
    {
     "name": "stderr",
     "output_type": "stream",
     "text": [
      "\r",
      "Running simulations:   0%|          | 1/440 [00:00<01:18,  5.60simulation/s]"
     ]
    },
    {
     "name": "stderr",
     "output_type": "stream",
     "text": [
      "\r",
      "Running simulations:   0%|          | 2/440 [00:00<01:11,  6.10simulation/s]"
     ]
    },
    {
     "name": "stderr",
     "output_type": "stream",
     "text": [
      "\r",
      "Running simulations:   1%|          | 4/440 [00:00<00:59,  7.34simulation/s]"
     ]
    },
    {
     "name": "stderr",
     "output_type": "stream",
     "text": [
      "\r",
      "Running simulations:   1%|          | 5/440 [00:00<01:06,  6.55simulation/s]"
     ]
    },
    {
     "name": "stderr",
     "output_type": "stream",
     "text": [
      "\r",
      "Running simulations:   2%|▏         | 7/440 [00:00<00:53,  8.15simulation/s]"
     ]
    },
    {
     "name": "stderr",
     "output_type": "stream",
     "text": [
      "\r",
      "Running simulations:   2%|▏         | 9/440 [00:01<01:09,  6.16simulation/s]"
     ]
    },
    {
     "name": "stderr",
     "output_type": "stream",
     "text": [
      "\r",
      "Running simulations:   2%|▎         | 11/440 [00:01<01:04,  6.65simulation/s]"
     ]
    },
    {
     "name": "stderr",
     "output_type": "stream",
     "text": [
      "\r",
      "Running simulations:   3%|▎         | 13/440 [00:01<01:00,  7.08simulation/s]"
     ]
    },
    {
     "name": "stderr",
     "output_type": "stream",
     "text": [
      "\r",
      "Running simulations:   4%|▍         | 17/440 [00:01<00:48,  8.65simulation/s]"
     ]
    },
    {
     "name": "stderr",
     "output_type": "stream",
     "text": [
      "\r",
      "Running simulations:   5%|▍         | 20/440 [00:02<00:40, 10.37simulation/s]"
     ]
    },
    {
     "name": "stderr",
     "output_type": "stream",
     "text": [
      "\r",
      "Running simulations:   5%|▌         | 22/440 [00:02<00:46,  8.95simulation/s]"
     ]
    },
    {
     "name": "stderr",
     "output_type": "stream",
     "text": [
      "\r",
      "Running simulations:   5%|▌         | 24/440 [00:02<01:02,  6.64simulation/s]"
     ]
    },
    {
     "name": "stderr",
     "output_type": "stream",
     "text": [
      "\r",
      "Running simulations:   6%|▌         | 27/440 [00:03<00:54,  7.51simulation/s]"
     ]
    },
    {
     "name": "stderr",
     "output_type": "stream",
     "text": [
      "\r",
      "Running simulations:   6%|▋         | 28/440 [00:03<00:59,  6.97simulation/s]"
     ]
    },
    {
     "name": "stderr",
     "output_type": "stream",
     "text": [
      "\r",
      "Running simulations:   7%|▋         | 30/440 [00:03<00:57,  7.16simulation/s]"
     ]
    },
    {
     "name": "stderr",
     "output_type": "stream",
     "text": [
      "\r",
      "Running simulations:   7%|▋         | 31/440 [00:04<01:50,  3.71simulation/s]"
     ]
    },
    {
     "name": "stderr",
     "output_type": "stream",
     "text": [
      "\r",
      "Running simulations:   8%|▊         | 33/440 [00:04<01:34,  4.30simulation/s]"
     ]
    },
    {
     "name": "stderr",
     "output_type": "stream",
     "text": [
      "\r",
      "Running simulations:   8%|▊         | 37/440 [00:04<01:14,  5.39simulation/s]"
     ]
    },
    {
     "name": "stderr",
     "output_type": "stream",
     "text": [
      "\r",
      "Running simulations:   9%|▊         | 38/440 [00:04<01:11,  5.65simulation/s]"
     ]
    },
    {
     "name": "stderr",
     "output_type": "stream",
     "text": [
      "\r",
      "Running simulations:   9%|▉         | 39/440 [00:05<02:17,  2.92simulation/s]"
     ]
    },
    {
     "name": "stderr",
     "output_type": "stream",
     "text": [
      "\r",
      "Running simulations:   9%|▉         | 41/440 [00:05<01:45,  3.79simulation/s]"
     ]
    },
    {
     "name": "stderr",
     "output_type": "stream",
     "text": [
      "\r",
      "Running simulations:  10%|▉         | 43/440 [00:06<01:25,  4.65simulation/s]"
     ]
    },
    {
     "name": "stderr",
     "output_type": "stream",
     "text": [
      "\r",
      "Running simulations:  10%|█         | 44/440 [00:06<01:14,  5.29simulation/s]"
     ]
    },
    {
     "name": "stderr",
     "output_type": "stream",
     "text": [
      "\r",
      "Running simulations:  11%|█         | 47/440 [00:06<00:56,  6.97simulation/s]"
     ]
    },
    {
     "name": "stderr",
     "output_type": "stream",
     "text": [
      "\r",
      "Running simulations:  11%|█         | 49/440 [00:06<00:52,  7.42simulation/s]"
     ]
    },
    {
     "name": "stderr",
     "output_type": "stream",
     "text": [
      "\r",
      "Running simulations:  12%|█▏        | 51/440 [00:06<00:55,  6.97simulation/s]"
     ]
    },
    {
     "name": "stderr",
     "output_type": "stream",
     "text": [
      "\r",
      "Running simulations:  12%|█▏        | 53/440 [00:07<00:53,  7.23simulation/s]"
     ]
    },
    {
     "name": "stderr",
     "output_type": "stream",
     "text": [
      "\r",
      "Running simulations:  12%|█▏        | 54/440 [00:07<01:07,  5.71simulation/s]"
     ]
    },
    {
     "name": "stderr",
     "output_type": "stream",
     "text": [
      "\r",
      "Running simulations:  13%|█▎        | 56/440 [00:07<01:03,  6.00simulation/s]"
     ]
    },
    {
     "name": "stderr",
     "output_type": "stream",
     "text": [
      "\r",
      "Running simulations:  13%|█▎        | 58/440 [00:07<01:00,  6.34simulation/s]"
     ]
    },
    {
     "name": "stderr",
     "output_type": "stream",
     "text": [
      "\r",
      "Running simulations:  13%|█▎        | 59/440 [00:08<00:55,  6.88simulation/s]"
     ]
    },
    {
     "name": "stderr",
     "output_type": "stream",
     "text": [
      "\r",
      "Running simulations:  14%|█▎        | 60/440 [00:08<00:58,  6.51simulation/s]"
     ]
    },
    {
     "name": "stderr",
     "output_type": "stream",
     "text": [
      "\r",
      "Running simulations:  14%|█▍        | 62/440 [00:08<00:50,  7.54simulation/s]"
     ]
    },
    {
     "name": "stderr",
     "output_type": "stream",
     "text": [
      "\r",
      "Running simulations:  15%|█▍        | 64/440 [00:08<00:41,  9.09simulation/s]"
     ]
    },
    {
     "name": "stderr",
     "output_type": "stream",
     "text": [
      "\r",
      "Running simulations:  15%|█▌        | 66/440 [00:08<00:41,  9.06simulation/s]"
     ]
    },
    {
     "name": "stderr",
     "output_type": "stream",
     "text": [
      "\r",
      "Running simulations:  15%|█▌        | 68/440 [00:08<00:40,  9.22simulation/s]"
     ]
    },
    {
     "name": "stderr",
     "output_type": "stream",
     "text": [
      "\r",
      "Running simulations:  16%|█▌        | 70/440 [00:09<00:36, 10.04simulation/s]"
     ]
    },
    {
     "name": "stderr",
     "output_type": "stream",
     "text": [
      "\r",
      "Running simulations:  16%|█▋        | 72/440 [00:10<01:19,  4.65simulation/s]"
     ]
    },
    {
     "name": "stderr",
     "output_type": "stream",
     "text": [
      "\r",
      "Running simulations:  17%|█▋        | 73/440 [00:10<01:22,  4.47simulation/s]"
     ]
    },
    {
     "name": "stderr",
     "output_type": "stream",
     "text": [
      "\r",
      "Running simulations:  17%|█▋        | 75/440 [00:10<01:12,  5.07simulation/s]"
     ]
    },
    {
     "name": "stderr",
     "output_type": "stream",
     "text": [
      "\r",
      "Running simulations:  17%|█▋        | 76/440 [00:10<01:07,  5.43simulation/s]"
     ]
    },
    {
     "name": "stderr",
     "output_type": "stream",
     "text": [
      "\r",
      "Running simulations:  18%|█▊        | 77/440 [00:10<01:17,  4.71simulation/s]"
     ]
    },
    {
     "name": "stderr",
     "output_type": "stream",
     "text": [
      "\r",
      "Running simulations:  18%|█▊        | 79/440 [00:11<01:09,  5.22simulation/s]"
     ]
    },
    {
     "name": "stderr",
     "output_type": "stream",
     "text": [
      "\r",
      "Running simulations:  18%|█▊        | 81/440 [00:11<01:00,  5.93simulation/s]"
     ]
    },
    {
     "name": "stderr",
     "output_type": "stream",
     "text": [
      "\r",
      "Running simulations:  19%|█▉        | 83/440 [00:11<01:02,  5.73simulation/s]"
     ]
    },
    {
     "name": "stderr",
     "output_type": "stream",
     "text": [
      "\r",
      "Running simulations:  19%|█▉        | 84/440 [00:12<01:01,  5.83simulation/s]"
     ]
    },
    {
     "name": "stderr",
     "output_type": "stream",
     "text": [
      "\r",
      "Running simulations:  19%|█▉        | 85/440 [00:12<01:04,  5.47simulation/s]"
     ]
    },
    {
     "name": "stderr",
     "output_type": "stream",
     "text": [
      "\r",
      "Running simulations:  20%|█▉        | 86/440 [00:12<00:59,  5.91simulation/s]"
     ]
    },
    {
     "name": "stderr",
     "output_type": "stream",
     "text": [
      "\r",
      "Running simulations:  20%|█▉        | 87/440 [00:12<01:28,  4.01simulation/s]"
     ]
    },
    {
     "name": "stderr",
     "output_type": "stream",
     "text": [
      "\r",
      "Running simulations:  20%|██        | 88/440 [00:13<01:25,  4.10simulation/s]"
     ]
    },
    {
     "name": "stderr",
     "output_type": "stream",
     "text": [
      "\r",
      "Running simulations:  20%|██        | 90/440 [00:13<01:22,  4.26simulation/s]"
     ]
    },
    {
     "name": "stderr",
     "output_type": "stream",
     "text": [
      "\r",
      "Running simulations:  21%|██        | 92/440 [00:13<01:22,  4.19simulation/s]"
     ]
    },
    {
     "name": "stderr",
     "output_type": "stream",
     "text": [
      "\r",
      "Running simulations:  21%|██        | 93/440 [00:14<01:38,  3.52simulation/s]"
     ]
    },
    {
     "name": "stderr",
     "output_type": "stream",
     "text": [
      "\r",
      "Running simulations:  21%|██▏       | 94/440 [00:14<01:21,  4.25simulation/s]"
     ]
    },
    {
     "name": "stderr",
     "output_type": "stream",
     "text": [
      "\r",
      "Running simulations:  22%|██▏       | 96/440 [00:14<01:04,  5.32simulation/s]"
     ]
    },
    {
     "name": "stderr",
     "output_type": "stream",
     "text": [
      "\r",
      "Running simulations:  22%|██▏       | 97/440 [00:14<01:15,  4.56simulation/s]"
     ]
    },
    {
     "name": "stderr",
     "output_type": "stream",
     "text": [
      "\r",
      "Running simulations:  22%|██▎       | 99/440 [00:15<01:07,  5.06simulation/s]"
     ]
    },
    {
     "name": "stderr",
     "output_type": "stream",
     "text": [
      "\r",
      "Running simulations:  23%|██▎       | 100/440 [00:15<01:15,  4.53simulation/s]"
     ]
    },
    {
     "name": "stderr",
     "output_type": "stream",
     "text": [
      "\r",
      "Running simulations:  23%|██▎       | 101/440 [00:15<01:21,  4.17simulation/s]"
     ]
    },
    {
     "name": "stderr",
     "output_type": "stream",
     "text": [
      "\r",
      "Running simulations:  23%|██▎       | 103/440 [00:16<01:08,  4.89simulation/s]"
     ]
    },
    {
     "name": "stderr",
     "output_type": "stream",
     "text": [
      "\r",
      "Running simulations:  24%|██▎       | 104/440 [00:16<01:41,  3.33simulation/s]"
     ]
    },
    {
     "name": "stderr",
     "output_type": "stream",
     "text": [
      "\r",
      "Running simulations:  24%|██▍       | 105/440 [00:17<02:26,  2.29simulation/s]"
     ]
    },
    {
     "name": "stderr",
     "output_type": "stream",
     "text": [
      "\r",
      "Running simulations:  24%|██▍       | 106/440 [00:17<02:06,  2.65simulation/s]"
     ]
    },
    {
     "name": "stderr",
     "output_type": "stream",
     "text": [
      "\r",
      "Running simulations:  25%|██▍       | 108/440 [00:17<01:34,  3.53simulation/s]"
     ]
    },
    {
     "name": "stderr",
     "output_type": "stream",
     "text": [
      "\r",
      "Running simulations:  25%|██▍       | 109/440 [00:17<01:34,  3.50simulation/s]"
     ]
    },
    {
     "name": "stderr",
     "output_type": "stream",
     "text": [
      "\r",
      "Running simulations:  25%|██▌       | 112/440 [00:18<01:11,  4.61simulation/s]"
     ]
    },
    {
     "name": "stderr",
     "output_type": "stream",
     "text": [
      "\r",
      "Running simulations:  26%|██▌       | 113/440 [00:18<01:19,  4.13simulation/s]"
     ]
    },
    {
     "name": "stderr",
     "output_type": "stream",
     "text": [
      "\r",
      "Running simulations:  26%|██▌       | 115/440 [00:18<01:06,  4.92simulation/s]"
     ]
    },
    {
     "name": "stderr",
     "output_type": "stream",
     "text": [
      "\r",
      "Running simulations:  26%|██▋       | 116/440 [00:19<01:22,  3.90simulation/s]"
     ]
    },
    {
     "name": "stderr",
     "output_type": "stream",
     "text": [
      "\r",
      "Running simulations:  27%|██▋       | 117/440 [00:19<01:09,  4.65simulation/s]"
     ]
    },
    {
     "name": "stderr",
     "output_type": "stream",
     "text": [
      "\r",
      "Running simulations:  27%|██▋       | 119/440 [00:19<00:56,  5.72simulation/s]"
     ]
    },
    {
     "name": "stderr",
     "output_type": "stream",
     "text": [
      "\r",
      "Running simulations:  27%|██▋       | 120/440 [00:19<01:06,  4.81simulation/s]"
     ]
    },
    {
     "name": "stderr",
     "output_type": "stream",
     "text": [
      "\r",
      "Running simulations:  28%|██▊       | 121/440 [00:20<01:37,  3.26simulation/s]"
     ]
    },
    {
     "name": "stderr",
     "output_type": "stream",
     "text": [
      "\r",
      "Running simulations:  28%|██▊       | 123/440 [00:20<01:32,  3.41simulation/s]"
     ]
    },
    {
     "name": "stderr",
     "output_type": "stream",
     "text": [
      "\r",
      "Running simulations:  28%|██▊       | 124/440 [00:21<01:52,  2.80simulation/s]"
     ]
    },
    {
     "name": "stderr",
     "output_type": "stream",
     "text": [
      "\r",
      "Running simulations:  28%|██▊       | 125/440 [00:21<01:29,  3.54simulation/s]"
     ]
    },
    {
     "name": "stderr",
     "output_type": "stream",
     "text": [
      "\r",
      "Running simulations:  29%|██▉       | 127/440 [00:21<01:18,  3.96simulation/s]"
     ]
    },
    {
     "name": "stderr",
     "output_type": "stream",
     "text": [
      "\r",
      "Running simulations:  29%|██▉       | 128/440 [00:22<01:54,  2.71simulation/s]"
     ]
    },
    {
     "name": "stderr",
     "output_type": "stream",
     "text": [
      "\r",
      "Running simulations:  29%|██▉       | 129/440 [00:22<01:53,  2.74simulation/s]"
     ]
    },
    {
     "name": "stderr",
     "output_type": "stream",
     "text": [
      "\r",
      "Running simulations:  30%|██▉       | 130/440 [00:22<01:37,  3.18simulation/s]"
     ]
    },
    {
     "name": "stderr",
     "output_type": "stream",
     "text": [
      "\r",
      "Running simulations:  30%|███       | 132/440 [00:23<01:23,  3.68simulation/s]"
     ]
    },
    {
     "name": "stderr",
     "output_type": "stream",
     "text": [
      "\r",
      "Running simulations:  30%|███       | 134/440 [00:23<01:09,  4.38simulation/s]"
     ]
    },
    {
     "name": "stderr",
     "output_type": "stream",
     "text": [
      "\r",
      "Running simulations:  31%|███       | 136/440 [00:23<00:54,  5.58simulation/s]"
     ]
    },
    {
     "name": "stderr",
     "output_type": "stream",
     "text": [
      "\r",
      "Running simulations:  31%|███       | 137/440 [00:23<01:01,  4.92simulation/s]"
     ]
    },
    {
     "name": "stderr",
     "output_type": "stream",
     "text": [
      "\r",
      "Running simulations:  31%|███▏      | 138/440 [00:24<01:07,  4.45simulation/s]"
     ]
    },
    {
     "name": "stderr",
     "output_type": "stream",
     "text": [
      "\r",
      "Running simulations:  32%|███▏      | 139/440 [00:24<01:04,  4.70simulation/s]"
     ]
    }
   ],
   "source": [
    "###################\n",
    "# Run simulations #\n",
    "###################\n",
    "# These are the available parameters\n",
    "# We specify each parameter as an array containing the desired values\n",
    "params = {\n",
    "    'nWifi': [1],  # Number of STAs\n",
    "    'distance': list(range(0, 110, 10)),  # Distance from AP\n",
    "    'useRts': [True],  # Enable RTS/CTS\n",
    "    'useShortGuardInterval': [True],  # Use the short guard interval\n",
    "    'mcs': list(range(0, 8, 2)),  # Modulation Coding Scheme to use\n",
    "    'channelWidth': [20],  # Channel width\n",
    "    'simulationTime': [4],  # How long to simulate for\n",
    "}\n",
    "runs = 10  # Number of runs to perform for each combination\n",
    "\n",
    "# Actually run the simulations\n",
    "# This will also print a progress bar\n",
    "campaign.run_missing_simulations(params, runs=runs)\n"
   ]
  },
  {
   "cell_type": "code",
   "execution_count": null,
   "metadata": {
    "collapsed": false
   },
   "outputs": [],
   "source": [
    "##################################\n",
    "# Exporting and plotting results #\n",
    "##################################\n",
    "# We need to define a function to parse the results. This function will then be\n",
    "# passed to get_results_as_dataframe, that will call it on every result it needs\n",
    "# to export.\n",
    "def get_average_throughput(result):\n",
    "    if result['meta']['exitcode'] == 0:\n",
    "        throughput = float(result['output']['stdout'].split(\" \")[-2])\n",
    "    else:\n",
    "        throughput = 0\n",
    "    return [throughput]\n",
    "throughput_labels = ['Throughput']\n",
    "\n",
    "# Use the parsing function to create a Pandas dataframe\n",
    "results = campaign.get_results_as_dataframe(get_average_throughput,\n",
    "                                            throughput_labels,\n",
    "                                            drop_columns=True)\n"
   ]
  },
  {
   "cell_type": "code",
   "execution_count": null,
   "metadata": {
    "collapsed": false
   },
   "outputs": [],
   "source": [
    "# Plot contents of the dataframe using Seaborn\n",
    "sns.catplot(x='distance',\n",
    "            y='Throughput',\n",
    "            hue='mcs',\n",
    "            data=results,\n",
    "            kind='point')\n",
    "plt.show()"
   ]
  }
 ],
 "metadata": {
  "kernelspec": {
   "argv": [
    "python",
    "-m",
    "ipykernel_launcher",
    "-f",
    "{connection_file}"
   ],
   "display_name": "Python 3",
   "env": null,
   "interrupt_mode": "signal",
   "language": "python",
   "metadata": null,
   "name": "python3"
  },
  "name": "Untitled.ipynb"
 },
 "nbformat": 4,
 "nbformat_minor": 4
}
