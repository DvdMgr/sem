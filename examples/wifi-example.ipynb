{
 "cells": [
  {
   "cell_type": "markdown",
   "metadata": {
    "collapsed": false
   },
   "source": [
    "# Running ns-3 Simulation Campaigns with SEM\n",
    "\n",
    "This example shows how you can use SEM to manage an ns-3 simulation campaign. We\n",
    "will be working with the ``wifi-multi-tos`` simulation script: this ns-3 program\n",
    "creates a WiFi network, measures the aggregate throughput and prints it out to\n",
    "the standard output. "
   ]
  },
  {
   "cell_type": "markdown",
   "metadata": {
    "collapsed": false
   },
   "source": [
    "## Creating the simulation campaign object\n",
    "\n",
    "First of all, let's import some relevant libraries. We will be using ``sem`` to\n",
    "run our simulations and parse the outputs, and ``matplotlib`` and ``seaborn`` to\n",
    "plot the results."
   ]
  },
  {
   "cell_type": "code",
   "execution_count": 46,
   "metadata": {
    "collapsed": false
   },
   "outputs": [],
   "source": [
    "import sem\n",
    "import pprint\n",
    "import matplotlib.pyplot as plt\n",
    "import seaborn as sns\n",
    "sns.set_style(\"white\")\n"
   ]
  },
  {
   "cell_type": "markdown",
   "metadata": {
    "collapsed": false
   },
   "source": [
    "Most of our interaction with ``sem`` will happen through an object of type\n",
    "``CampaignManager``. When we create our campaign, we need to tell ``sem`` where\n",
    "to find our ns-3 installation, what script we want to run, and where it should\n",
    "save our results."
   ]
  },
  {
   "cell_type": "code",
   "execution_count": 47,
   "metadata": {
    "collapsed": false
   },
   "outputs": [],
   "source": [
    "ns_path = 'ns-3'\n",
    "script = 'wifi-multi-tos'\n",
    "campaign_dir = \"results\"\n",
    "campaign = sem.CampaignManager.new(ns_path, script, campaign_dir, overwrite=True)\n"
   ]
  },
  {
   "cell_type": "markdown",
   "metadata": {
    "collapsed": false
   },
   "source": [
    "At time of campaign creation, ``sem`` compiles ns-3, asks the ns-3 script we\n",
    "want to use for its command line parameters, and looks at the hash of the commit\n",
    "the ns-3 repository is currently at. This data is saved and printed out when we\n",
    "inspect the campaign object."
   ]
  },
  {
   "cell_type": "code",
   "execution_count": 48,
   "metadata": {
    "collapsed": false
   },
   "outputs": [
    {
     "name": "stdout",
     "output_type": "stream",
     "text": [
      "--- Campaign info ---\n",
      "script: wifi-multi-tos\n",
      "params: {'nWifi': 4.0, 'distance': 1.0, 'simulationTime': 10.0, 'useRts': False, 'mcs': 7.0, 'channelWidth': None, 'useShortGuardInterval': False}\n",
      "HEAD: 2d7f24b9adaf5dadf29c15d7237a96b43f77ef27\n",
      "Runner type: <class 'sem.parallelrunner.ParallelRunner'>\n",
      "-----------\n"
     ]
    }
   ],
   "source": [
    "print(campaign)\n"
   ]
  },
  {
   "cell_type": "markdown",
   "metadata": {
    "collapsed": false
   },
   "source": [
    "## Running simulations\n",
    "\n",
    "Now that we created our simulation campaign object, we can use it to run some\n",
    "simulations. In order to do this, we need to specify what parameter combinations\n",
    "we are interested in running. The ``wifi-multi-tos`` script supports the\n",
    "following command line parameters:\n",
    "\n",
    "- ``nWifi``: Number of STAs to simulate\n",
    "- ``distance``: Distance of STAs from the AP\n",
    "- ``useRts``: Whether to enable RTS/CTS\n",
    "- ``useShortGuardInterval``: Whether to use the short guard interval\n",
    "- ``mcs``: Modulation Coding Scheme to use\n",
    "- ``channelWidth``: Channel Width in MHz\n",
    "- ``simulationTime``:  How long to simulate for\n",
    "\n",
    "Say we are interested in seeing how a certain MCS is affected by the distance\n",
    "between the STA and the AP. In this case, we might want to run simulations with\n",
    "different values of the ``mcs`` and ``distance`` parameters. To do this, we\n",
    "create a Python dictionary where the keys are the name of the parameters, and\n",
    "the values are lists of parameter values. When we pass this dictionary to our\n",
    "``campaign`` object's ``run_missing_simulations`` function, ``sem`` will run\n",
    "simulations for each combination of the specified parameter space.\n",
    "\n",
    "We also create a ``runs`` variable to specify how many randomized experiments we\n",
    "want ``sem`` to perform for each parameter combination.\n"
   ]
  },
  {
   "cell_type": "code",
   "execution_count": 49,
   "metadata": {
    "collapsed": false
   },
   "outputs": [
    {
     "name": "stderr",
     "output_type": "stream",
     "text": [
      "\r",
      "Running simulations:   0%|          | 0/88 [00:00<?, ?simulation/s]"
     ]
    },
    {
     "name": "stderr",
     "output_type": "stream",
     "text": [
      "\r",
      "Running simulations:   1%|          | 1/88 [00:00<00:28,  3.01simulation/s]"
     ]
    },
    {
     "name": "stderr",
     "output_type": "stream",
     "text": [
      "\r",
      "Running simulations:  10%|█         | 9/88 [00:00<00:05, 15.79simulation/s]"
     ]
    },
    {
     "name": "stderr",
     "output_type": "stream",
     "text": [
      "\r",
      "Running simulations:  12%|█▎        | 11/88 [00:00<00:06, 11.83simulation/s]"
     ]
    },
    {
     "name": "stderr",
     "output_type": "stream",
     "text": [
      "\r",
      "Running simulations:  15%|█▍        | 13/88 [00:01<00:07, 10.44simulation/s]"
     ]
    },
    {
     "name": "stderr",
     "output_type": "stream",
     "text": [
      "\r",
      "Running simulations:  18%|█▊        | 16/88 [00:01<00:07, 10.24simulation/s]"
     ]
    },
    {
     "name": "stderr",
     "output_type": "stream",
     "text": [
      "\r",
      "Running simulations:  22%|██▏       | 19/88 [00:01<00:07,  9.53simulation/s]"
     ]
    },
    {
     "name": "stderr",
     "output_type": "stream",
     "text": [
      "\r",
      "Running simulations:  23%|██▎       | 20/88 [00:02<00:07,  8.96simulation/s]"
     ]
    },
    {
     "name": "stderr",
     "output_type": "stream",
     "text": [
      "\r",
      "Running simulations:  24%|██▍       | 21/88 [00:02<00:09,  7.09simulation/s]"
     ]
    },
    {
     "name": "stderr",
     "output_type": "stream",
     "text": [
      "\r",
      "Running simulations:  26%|██▌       | 23/88 [00:02<00:07,  8.27simulation/s]"
     ]
    },
    {
     "name": "stderr",
     "output_type": "stream",
     "text": [
      "\r",
      "Running simulations:  27%|██▋       | 24/88 [00:02<00:08,  7.90simulation/s]"
     ]
    },
    {
     "name": "stderr",
     "output_type": "stream",
     "text": [
      "\r",
      "Running simulations:  31%|███       | 27/88 [00:02<00:06,  9.72simulation/s]"
     ]
    },
    {
     "name": "stderr",
     "output_type": "stream",
     "text": [
      "\r",
      "Running simulations:  32%|███▏      | 28/88 [00:03<00:09,  6.65simulation/s]"
     ]
    },
    {
     "name": "stderr",
     "output_type": "stream",
     "text": [
      "\r",
      "Running simulations:  34%|███▍      | 30/88 [00:03<00:06,  8.44simulation/s]"
     ]
    },
    {
     "name": "stderr",
     "output_type": "stream",
     "text": [
      "\r",
      "Running simulations:  36%|███▋      | 32/88 [00:03<00:05,  9.74simulation/s]"
     ]
    },
    {
     "name": "stderr",
     "output_type": "stream",
     "text": [
      "\r",
      "Running simulations:  39%|███▊      | 34/88 [00:03<00:05,  9.67simulation/s]"
     ]
    },
    {
     "name": "stderr",
     "output_type": "stream",
     "text": [
      "\r",
      "Running simulations:  41%|████      | 36/88 [00:03<00:05,  9.92simulation/s]"
     ]
    },
    {
     "name": "stderr",
     "output_type": "stream",
     "text": [
      "\r",
      "Running simulations:  43%|████▎     | 38/88 [00:04<00:05,  8.51simulation/s]"
     ]
    },
    {
     "name": "stderr",
     "output_type": "stream",
     "text": [
      "\r",
      "Running simulations:  45%|████▌     | 40/88 [00:04<00:06,  7.94simulation/s]"
     ]
    },
    {
     "name": "stderr",
     "output_type": "stream",
     "text": [
      "\r",
      "Running simulations:  47%|████▋     | 41/88 [00:04<00:05,  8.18simulation/s]"
     ]
    },
    {
     "name": "stderr",
     "output_type": "stream",
     "text": [
      "\r",
      "Running simulations:  48%|████▊     | 42/88 [00:04<00:05,  8.20simulation/s]"
     ]
    },
    {
     "name": "stderr",
     "output_type": "stream",
     "text": [
      "\r",
      "Running simulations:  50%|█████     | 44/88 [00:04<00:05,  8.75simulation/s]"
     ]
    },
    {
     "name": "stderr",
     "output_type": "stream",
     "text": [
      "\r",
      "Running simulations:  52%|█████▏    | 46/88 [00:04<00:03, 10.62simulation/s]"
     ]
    },
    {
     "name": "stderr",
     "output_type": "stream",
     "text": [
      "\r",
      "Running simulations:  55%|█████▍    | 48/88 [00:05<00:04,  9.42simulation/s]"
     ]
    },
    {
     "name": "stderr",
     "output_type": "stream",
     "text": [
      "\r",
      "Running simulations:  57%|█████▋    | 50/88 [00:05<00:03, 10.49simulation/s]"
     ]
    },
    {
     "name": "stderr",
     "output_type": "stream",
     "text": [
      "\r",
      "Running simulations:  59%|█████▉    | 52/88 [00:05<00:03, 10.68simulation/s]"
     ]
    },
    {
     "name": "stderr",
     "output_type": "stream",
     "text": [
      "\r",
      "Running simulations:  61%|██████▏   | 54/88 [00:05<00:03,  9.97simulation/s]"
     ]
    },
    {
     "name": "stderr",
     "output_type": "stream",
     "text": [
      "\r",
      "Running simulations:  64%|██████▎   | 56/88 [00:06<00:03,  8.98simulation/s]"
     ]
    },
    {
     "name": "stderr",
     "output_type": "stream",
     "text": [
      "\r",
      "Running simulations:  67%|██████▋   | 59/88 [00:06<00:03,  8.99simulation/s]"
     ]
    },
    {
     "name": "stderr",
     "output_type": "stream",
     "text": [
      "\r",
      "Running simulations:  69%|██████▉   | 61/88 [00:06<00:03,  8.69simulation/s]"
     ]
    },
    {
     "name": "stderr",
     "output_type": "stream",
     "text": [
      "\r",
      "Running simulations:  73%|███████▎  | 64/88 [00:06<00:02, 10.75simulation/s]"
     ]
    },
    {
     "name": "stderr",
     "output_type": "stream",
     "text": [
      "\r",
      "Running simulations:  75%|███████▌  | 66/88 [00:07<00:02, 10.63simulation/s]"
     ]
    },
    {
     "name": "stderr",
     "output_type": "stream",
     "text": [
      "\r",
      "Running simulations:  77%|███████▋  | 68/88 [00:07<00:02,  9.68simulation/s]"
     ]
    },
    {
     "name": "stderr",
     "output_type": "stream",
     "text": [
      "\r",
      "Running simulations:  80%|███████▉  | 70/88 [00:07<00:02,  8.02simulation/s]"
     ]
    },
    {
     "name": "stderr",
     "output_type": "stream",
     "text": [
      "\r",
      "Running simulations:  81%|████████  | 71/88 [00:07<00:02,  7.17simulation/s]"
     ]
    },
    {
     "name": "stderr",
     "output_type": "stream",
     "text": [
      "\r",
      "Running simulations:  82%|████████▏ | 72/88 [00:08<00:03,  5.21simulation/s]"
     ]
    },
    {
     "name": "stderr",
     "output_type": "stream",
     "text": [
      "\r",
      "Running simulations:  83%|████████▎ | 73/88 [00:08<00:03,  4.57simulation/s]"
     ]
    },
    {
     "name": "stderr",
     "output_type": "stream",
     "text": [
      "\r",
      "Running simulations:  84%|████████▍ | 74/88 [00:08<00:03,  4.35simulation/s]"
     ]
    },
    {
     "name": "stderr",
     "output_type": "stream",
     "text": [
      "\r",
      "Running simulations:  85%|████████▌ | 75/88 [00:09<00:03,  3.94simulation/s]"
     ]
    },
    {
     "name": "stderr",
     "output_type": "stream",
     "text": [
      "\r",
      "Running simulations:  86%|████████▋ | 76/88 [00:09<00:03,  3.57simulation/s]"
     ]
    },
    {
     "name": "stderr",
     "output_type": "stream",
     "text": [
      "\r",
      "Running simulations:  89%|████████▊ | 78/88 [00:09<00:02,  4.85simulation/s]"
     ]
    },
    {
     "name": "stderr",
     "output_type": "stream",
     "text": [
      "\r",
      "Running simulations:  90%|████████▉ | 79/88 [00:09<00:01,  5.07simulation/s]"
     ]
    },
    {
     "name": "stderr",
     "output_type": "stream",
     "text": [
      "\r",
      "Running simulations:  91%|█████████ | 80/88 [00:10<00:02,  3.89simulation/s]"
     ]
    },
    {
     "name": "stderr",
     "output_type": "stream",
     "text": [
      "\r",
      "Running simulations:  92%|█████████▏| 81/88 [00:10<00:01,  4.20simulation/s]"
     ]
    },
    {
     "name": "stderr",
     "output_type": "stream",
     "text": [
      "\r",
      "Running simulations:  93%|█████████▎| 82/88 [00:10<00:01,  3.84simulation/s]"
     ]
    },
    {
     "name": "stderr",
     "output_type": "stream",
     "text": [
      "\r",
      "Running simulations:  94%|█████████▍| 83/88 [00:11<00:01,  3.93simulation/s]"
     ]
    },
    {
     "name": "stderr",
     "output_type": "stream",
     "text": [
      "\r",
      "Running simulations:  95%|█████████▌| 84/88 [00:11<00:01,  3.57simulation/s]"
     ]
    },
    {
     "name": "stderr",
     "output_type": "stream",
     "text": [
      "\r",
      "Running simulations:  98%|█████████▊| 86/88 [00:11<00:00,  3.93simulation/s]"
     ]
    },
    {
     "name": "stderr",
     "output_type": "stream",
     "text": [
      "\r",
      "Running simulations:  99%|█████████▉| 87/88 [00:12<00:00,  3.37simulation/s]"
     ]
    },
    {
     "name": "stderr",
     "output_type": "stream",
     "text": [
      "\r",
      "Running simulations: 100%|██████████| 88/88 [00:12<00:00,  2.98simulation/s]"
     ]
    },
    {
     "name": "stderr",
     "output_type": "stream",
     "text": [
      "\r",
      "Running simulations: 100%|██████████| 88/88 [00:12<00:00,  6.89simulation/s]"
     ]
    },
    {
     "name": "stderr",
     "output_type": "stream",
     "text": [
      "\n"
     ]
    }
   ],
   "source": [
    "params = {\n",
    "    'nWifi': [1], \n",
    "    'distance': list(range(0, 110, 10)),\n",
    "    'useRts': [True],  \n",
    "    'useShortGuardInterval': [True],  \n",
    "    'mcs': list(range(0, 8, 2)),  \n",
    "    'channelWidth': [20],  \n",
    "    'simulationTime': [4],  \n",
    "}\n",
    "runs = 2\n",
    "\n",
    "campaign.run_missing_simulations(params, runs=runs)\n"
   ]
  },
  {
   "cell_type": "markdown",
   "metadata": {
    "collapsed": false
   },
   "source": [
    "## Viewing results\n",
    "\n",
    "Results are now saved in the campaign object's database. We can access them\n",
    "through the campaign's database object, which offers a ``get_complete_results``\n",
    "function:\n"
   ]
  },
  {
   "cell_type": "code",
   "execution_count": 50,
   "metadata": {
    "collapsed": false
   },
   "outputs": [
    {
     "name": "stdout",
     "output_type": "stream",
     "text": [
      "There are 88 results in the database\n",
      "\n",
      "This is an example result:\n",
      "\n",
      "{'meta': {'elapsed_time': 0.2854471206665039,\n",
      "          'exitcode': 0,\n",
      "          'id': '88a0d63b-5f97-4eb5-8b4b-00ec6e24644c'},\n",
      " 'output': {'stderr': '', 'stdout': 'Aggregated throughput: 0 Mbit/s\\n'},\n",
      " 'params': {'RngRun': 49,\n",
      "            'channelWidth': 20,\n",
      "            'distance': 60,\n",
      "            'mcs': 0,\n",
      "            'nWifi': 1,\n",
      "            'simulationTime': 4,\n",
      "            'useRts': True,\n",
      "            'useShortGuardInterval': True}}\n"
     ]
    }
   ],
   "source": [
    "print(\"There are %s results in the database\\n\" % len(campaign.db.get_complete_results()))\n",
    "example_result = campaign.db.get_complete_results()[0]\n",
    "print(\"This is an example result:\\n\")\n",
    "pprint.pprint(example_result)\n"
   ]
  },
  {
   "cell_type": "markdown",
   "metadata": {
    "collapsed": false
   },
   "source": [
    "We can see that there are 88 results in the database, corresponding to the\n",
    "simulations we ran earlier. A single result is simply a dictionary, with three\n",
    "keys:\n",
    "- ``meta``, whose value is a dictionary containing information on the simulation execution\n",
    "- ``output``, whose value is a dictionary containing a list of files created by the simulation, in addition to entries containing stdout and stderr\n",
    "- ``params``, whose value is the parameter specification that was used to obtain this result\n",
    "\n",
    "We can thus see the output produced by the simulation easily:\n"
   ]
  },
  {
   "cell_type": "code",
   "execution_count": 65,
   "metadata": {
    "collapsed": false
   },
   "outputs": [
    {
     "name": "stdout",
     "output_type": "stream",
     "text": [
      "Aggregated throughput: 0 Mbit/s\n",
      "\n"
     ]
    }
   ],
   "source": [
    "print(example_result['output']['stdout'])\n"
   ]
  },
  {
   "cell_type": "markdown",
   "metadata": {
    "collapsed": false
   },
   "source": [
    "If we are interested in running one of such results manually, using waf from our\n",
    "ns-3 installation, ``sem`` provides a function that outputs the appropriate\n",
    "command automatically:\n"
   ]
  },
  {
   "cell_type": "code",
   "execution_count": 57,
   "metadata": {
    "collapsed": false
   },
   "outputs": [
    {
     "name": "stdout",
     "output_type": "stream",
     "text": [
      "Use this command to reproduce the example result:\n",
      "python3 waf --run \"wifi-multi-tos --nWifi=1 --distance=60 --useRts=True --useShortGuardInterval=True --mcs=0 --channelWidth=20 --simulationTime=4 --RngRun=49\"\n",
      "Or obtain a debug command by setting the debug flag to true:\n",
      "python3 waf --run wifi-multi-tos --command-template=\"gdb --args %s --nWifi=1 --distance=60 --useRts=True --useShortGuardInterval=True --mcs=0 --channelWidth=20 --simulationTime=4 --RngRun=49\"\n"
     ]
    }
   ],
   "source": [
    "waf_command = sem.utils.get_command_from_result(script, example_result)\n",
    "print(\"Use this command to reproduce the example result:\\n%s\" % waf_command)\n",
    "\n",
    "waf_command_debug = sem.utils.get_command_from_result(script, example_result, debug=True)\n",
    "print(\"Or obtain a debug command by setting the debug flag to true:\\n%s\" % waf_command_debug)\n"
   ]
  },
  {
   "cell_type": "markdown",
   "metadata": {
    "collapsed": false
   },
   "source": [
    "\n",
    "## Exporting and plotting results\n",
    "\n",
    "We need to define a function to parse the results. This function will then be\n",
    "passed to ``get_results_as_dataframe``, that will call it on every result it needs to export.\n"
   ]
  },
  {
   "cell_type": "code",
   "execution_count": 51,
   "metadata": {
    "collapsed": false
   },
   "outputs": [],
   "source": [
    "def get_average_throughput(result):\n",
    "    if result['meta']['exitcode'] == 0:\n",
    "        throughput = float(result['output']['stdout'].split(\" \")[-2])\n",
    "    else:\n",
    "        throughput = 0\n",
    "    return [throughput]\n",
    "throughput_labels = ['Throughput']\n",
    "\n",
    "# Use the parsing function to create a Pandas dataframe\n",
    "results = campaign.get_results_as_dataframe(get_average_throughput,\n",
    "                                            throughput_labels,\n",
    "                                            drop_columns=True)\n"
   ]
  },
  {
   "cell_type": "code",
   "execution_count": 52,
   "metadata": {
    "collapsed": false
   },
   "outputs": [
    {
     "data": {
      "image/png": "[encoded data removed]",
      "text/plain": [
       "<Figure size 402.375x360 with 1 Axes>"
      ]
     },
     "metadata": {},
     "output_type": "display_data"
    }
   ],
   "source": [
    "# Plot contents of the dataframe using Seaborn\n",
    "sns.catplot(x='distance',\n",
    "            y='Throughput',\n",
    "            hue='mcs',\n",
    "            data=results,\n",
    "            kind='point')\n",
    "plt.show()"
   ]
  }
 ],
 "metadata": {
  "kernelspec": {
   "argv": [
    "python",
    "-m",
    "ipykernel_launcher",
    "-f",
    "{connection_file}"
   ],
   "display_name": "Python 3",
   "env": null,
   "interrupt_mode": "signal",
   "language": "python",
   "metadata": null,
   "name": "python3"
  },
  "name": "wifi-example.ipynb"
 },
 "nbformat": 4,
 "nbformat_minor": 4
}
